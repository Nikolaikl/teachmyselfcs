{
 "cells": [
  {
   "cell_type": "markdown",
   "id": "unknown-cleanup",
   "metadata": {},
   "source": [
    "# Building Abstractions with Procedures\n",
    "\n",
    "## 1- Abstraction - Procedures\n",
    "\n",
    "Procedures are in effect abstractions that describe compound operations on numbers or factors indeendent of the particular numbers. \n",
    "\n",
    "In Lisp things are written in a logical order not in a order that resemples the formalism we imply in English. \n",
    "\n",
    "### Errors, Statements and Expressions\n",
    "#### Expressions & Statements\n",
    "\n",
    "Statements typically describe actions. When the Python interpreter executes a statement, it carries out the corresponding action. On the other hand, expressions typically describe computations. When Python evaluates an expression, it computes the value of that expression\n",
    "\n",
    "####  Errors\n",
    "\n",
    "Errors occur when something is quite wrong. According to Fancisco Cai and Nick Parlante, the fundamental equation of computers is \n",
    "\n",
    "The fundamental equation of computers is:\n",
    "\n",
    "computer = powerful + stupid\n",
    "\n",
    "Computers are very powerful, looking at volumes of data very quickly. Computers can perform billions of operations per second, where each operation is pretty simple.\n",
    "\n",
    "Computers are also shockingly stupid and fragile. The operations that they can do are extremely rigid, simple, and mechanical. The computer lacks anything like real insight ... it's nothing like the HAL 9000 from the movies. If nothing else, you should not be intimidated by the computer as if it's some sort of brain. It's very mechanical underneath it all.\n",
    "\n",
    "Programming is about a person using their real insight to build something useful, constructed out of these teeny, simple little operations that the computer can do.\n",
    "\n",
    "## Higher order abstractions \n",
    "\n",
    "### Function calls in the Scope\n",
    "\n",
    "### Lambda Abstractions (Anonymus functions)\n",
    "\n",
    "We can also build anonymus functions that we call within another procedure, like compunding computations. Doing so can accelerate runtime and make some calls more efficient.\n"
   ]
  },
  {
   "cell_type": "code",
   "execution_count": 2,
   "id": "figured-terrorist",
   "metadata": {},
   "outputs": [],
   "source": [
    "# in python \n",
    "\n",
    "def functions(a,b):\n",
    "    # do something with a b\n",
    "    c = a + b \n",
    "    return c\n",
    "\n",
    "## both function calls should result in the same retured value\n",
    "def function(a,b):\n",
    "    c = lambda d : a + b # can be a more complex function call \n",
    "                         # like a list comprehension or so as well\n",
    "    return c \n",
    "\n",
    "# we can implement the lambda functions in more complex procedures"
   ]
  },
  {
   "cell_type": "markdown",
   "id": "reserved-builder",
   "metadata": {},
   "source": [
    "# 2 - Bulding Abstractions with Data\n",
    "\n",
    "Compounding data thorugh programming languages that form a complex abstract data type (ADT). These programs are strucutred in such a way that they can operate via compound data objects on abstract data (e.g. tree structures, queues and stacks). (Note: I mostly covered all these Topics while studying ADT and Algorithms for Python).\n"
   ]
  },
  {
   "cell_type": "markdown",
   "id": "documentary-above",
   "metadata": {},
   "source": [
    "## 3 - Interpreting Computer Programs\n",
    "\n",
    "High-level languages, erected on a machine-language substrate, hide concerns about the representation of data as collections of bits and the representation of programs as sequences of primitive instructions. These languages have means of combination and abstraction, such as function definition, that are appropriate to the larger-scale organization of software systems. Low-level languages are though mostly compiled and ran thorugh an interpreter which tranlates the code to machine code first. \n",
    "\n",
    "Scheme is a dialect of Lisp, the second-oldest programming language that is still widely used today (after Fortran). The community of Lisp programmers has continued to thrive for decades, and new dialects of Lisp such as Clojure have some of the fastest growing communities of developers of any modern programming language."
   ]
  },
  {
   "cell_type": "markdown",
   "id": "fifty-merchant",
   "metadata": {},
   "source": [
    "## 4 - Data Processing\n",
    "\n",
    "There are multiple ways of processing data. From small amount of data to very large data. The solutions to solve problems with that kind of data are not one solution fix them all but depends: from SQL to NoSQL methods.\n",
    "\n",
    "\n",
    "### 4.1 Implicit Sequences\n",
    "\n",
    "#### 4.1.1 Iterators\n",
    "\n",
    "We can use the Python inbuilt iterator function to see how it works to process iteratable objects"
   ]
  },
  {
   "cell_type": "code",
   "execution_count": 7,
   "id": "otherwise-thread",
   "metadata": {},
   "outputs": [
    {
     "data": {
      "text/plain": [
       "1"
      ]
     },
     "execution_count": 7,
     "metadata": {},
     "output_type": "execute_result"
    }
   ],
   "source": [
    "iteratable  = iter([0,1,2,3,4])\n",
    "next(iteratable)\n",
    "next(iteratable)"
   ]
  },
  {
   "cell_type": "markdown",
   "id": "optical-surname",
   "metadata": {},
   "source": [
    "#### Generators and Yield Statements\n",
    "\n",
    "The next method can be implemented a bit easier inside a yield and generator object"
   ]
  },
  {
   "cell_type": "code",
   "execution_count": 12,
   "id": "conditional-figure",
   "metadata": {},
   "outputs": [
    {
     "name": "stdout",
     "output_type": "stream",
     "text": [
      "a\n",
      "b\n",
      "c\n",
      "d\n",
      "e\n"
     ]
    }
   ],
   "source": [
    "def letterGenerator():\n",
    "    current = 'a'\n",
    "    while current <= 'e':\n",
    "        yield current\n",
    "        current = chr(ord(current) +1)\n",
    "        \n",
    "for letter in letterGenerator():\n",
    "    print(letter)"
   ]
  },
  {
   "cell_type": "code",
   "execution_count": 14,
   "id": "understood-arbor",
   "metadata": {},
   "outputs": [
    {
     "data": {
      "text/plain": [
       "'b'"
      ]
     },
     "execution_count": 14,
     "metadata": {},
     "output_type": "execute_result"
    }
   ],
   "source": [
    "# We can also call the non public method next\n",
    "\n",
    "letters = letterGenerator()\n",
    "letters.__next__()\n",
    "letters.__next__()"
   ]
  },
  {
   "cell_type": "markdown",
   "id": "cloudy-range",
   "metadata": {},
   "source": [
    "### 4.6 Distributed Computing\n",
    "\n"
   ]
  },
  {
   "cell_type": "code",
   "execution_count": null,
   "id": "average-universe",
   "metadata": {},
   "outputs": [],
   "source": []
  }
 ],
 "metadata": {
  "kernelspec": {
   "display_name": "Python 3",
   "language": "python",
   "name": "python3"
  },
  "language_info": {
   "codemirror_mode": {
    "name": "ipython",
    "version": 3
   },
   "file_extension": ".py",
   "mimetype": "text/x-python",
   "name": "python",
   "nbconvert_exporter": "python",
   "pygments_lexer": "ipython3",
   "version": "3.7.10"
  }
 },
 "nbformat": 4,
 "nbformat_minor": 5
}
