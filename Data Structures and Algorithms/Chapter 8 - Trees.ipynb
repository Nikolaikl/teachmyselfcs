{
 "cells": [
  {
   "cell_type": "markdown",
   "id": "danish-sierra",
   "metadata": {},
   "source": [
    "## General Trees\n",
    "\n",
    "A tree stores the data hieararchically. A parent node has from one to many other children, which also can have children. Formally, we define a tree T as a set of nodes storing elements such that the nodes\n",
    "have a parent-child relationship that satisfies the following properties:\n",
    "\n",
    "* If T is nonempty, it has a special node, called the root of T, that has no parent\n",
    "\n",
    "* Each node v of T different frome the root has a unique parent node w; every node with parent w is a child of w\n",
    "\n",
    "* Edges are connections between nodes\n",
    "\n",
    "* Paths are ways how to go from a node to another on existing edges between the nodes\n",
    "\n"
   ]
  },
  {
   "cell_type": "code",
   "execution_count": null,
   "id": "differential-shooting",
   "metadata": {},
   "outputs": [],
   "source": []
  },
  {
   "cell_type": "markdown",
   "id": "laughing-waters",
   "metadata": {},
   "source": [
    "## Binary Trees"
   ]
  },
  {
   "cell_type": "code",
   "execution_count": null,
   "id": "professional-surname",
   "metadata": {},
   "outputs": [],
   "source": []
  },
  {
   "cell_type": "markdown",
   "id": "impressive-happening",
   "metadata": {},
   "source": [
    "## Implementing Trees"
   ]
  },
  {
   "cell_type": "code",
   "execution_count": null,
   "id": "through-retro",
   "metadata": {},
   "outputs": [],
   "source": []
  },
  {
   "cell_type": "markdown",
   "id": "distant-nebraska",
   "metadata": {},
   "source": [
    "## Tree Traversal Algorithms"
   ]
  },
  {
   "cell_type": "code",
   "execution_count": null,
   "id": "surprising-capital",
   "metadata": {},
   "outputs": [],
   "source": []
  },
  {
   "cell_type": "markdown",
   "id": "constant-while",
   "metadata": {},
   "source": [
    "## Exercises"
   ]
  },
  {
   "cell_type": "code",
   "execution_count": null,
   "id": "fresh-karma",
   "metadata": {},
   "outputs": [],
   "source": []
  },
  {
   "cell_type": "code",
   "execution_count": null,
   "id": "backed-queensland",
   "metadata": {},
   "outputs": [],
   "source": []
  },
  {
   "cell_type": "code",
   "execution_count": null,
   "id": "color-president",
   "metadata": {},
   "outputs": [],
   "source": []
  }
 ],
 "metadata": {
  "kernelspec": {
   "display_name": "Python 3",
   "language": "python",
   "name": "python3"
  },
  "language_info": {
   "codemirror_mode": {
    "name": "ipython",
    "version": 3
   },
   "file_extension": ".py",
   "mimetype": "text/x-python",
   "name": "python",
   "nbconvert_exporter": "python",
   "pygments_lexer": "ipython3",
   "version": "3.7.10"
  }
 },
 "nbformat": 4,
 "nbformat_minor": 5
}
