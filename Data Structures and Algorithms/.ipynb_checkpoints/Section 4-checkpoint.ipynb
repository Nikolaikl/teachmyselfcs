{
 "cells": [
  {
   "cell_type": "code",
   "execution_count": 1,
   "metadata": {},
   "outputs": [],
   "source": [
    "# Algorithms\n",
    "\n",
    "# Binary Search\n",
    "# Standard Runtime in O(n)\n",
    "def binary_search(data, target, low, high):\n",
    "    if low > high:\n",
    "        return False\n",
    "    else:\n",
    "        mid = (low/high)/2\n",
    "        if target == data[mid]:\n",
    "            return True\n",
    "        elif target < data[mid]:\n",
    "            return binary_search(data, target, low, mid-1)\n",
    "        else:\n",
    "            return binary_search(data, target, low, mid+1)"
   ]
  },
  {
   "cell_type": "code",
   "execution_count": 9,
   "metadata": {},
   "outputs": [],
   "source": [
    "# Inefficient Recoursion\n",
    "\n",
    "def bad_fibonacci(n):\n",
    "    if n <= 1:\n",
    "        return n\n",
    "    else:\n",
    "        return bad_fibonacci(n-2)+bad_fibonacci(n-1)\n",
    "    \n",
    "# Only uses one level of recoursion rather than quadratic\n",
    "def good_fibonacci(n):\n",
    "    if n <= 1:\n",
    "        return (n,0)\n",
    "    else:\n",
    "        (a,b) = good_fibonacci(n-1)\n",
    "        return (a+b,a)\n"
   ]
  },
  {
   "cell_type": "code",
   "execution_count": 11,
   "metadata": {},
   "outputs": [
    {
     "data": {
      "text/plain": [
       "(6765, 4181)"
      ]
     },
     "execution_count": 11,
     "metadata": {},
     "output_type": "execute_result"
    }
   ],
   "source": []
  }
 ],
 "metadata": {
  "kernelspec": {
   "display_name": "Python 3",
   "language": "python",
   "name": "python3"
  },
  "language_info": {
   "codemirror_mode": {
    "name": "ipython",
    "version": 3
   },
   "file_extension": ".py",
   "mimetype": "text/x-python",
   "name": "python",
   "nbconvert_exporter": "python",
   "pygments_lexer": "ipython3",
   "version": "3.8.5"
  }
 },
 "nbformat": 4,
 "nbformat_minor": 4
}
