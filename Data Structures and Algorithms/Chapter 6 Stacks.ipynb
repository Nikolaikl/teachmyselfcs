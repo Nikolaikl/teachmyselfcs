{
 "cells": [
  {
   "cell_type": "markdown",
   "metadata": {},
   "source": [
    "## Chapter 6 - Stacks, Queus and Dequeus "
   ]
  },
  {
   "cell_type": "code",
   "execution_count": 1,
   "metadata": {},
   "outputs": [],
   "source": [
    "# Stacks - Last in First Out Principle \n",
    "class ArrayStack:\n",
    "    \"\"\"LIFO Stack implementatino using a Python list as underlying storage.\"\"\"\n",
    "    \n",
    "    def __init__(self):\n",
    "        self._data = []\n",
    "        \n",
    "    def __len__(self):\n",
    "        return len(self._data)\n",
    "    \n",
    "    def is_empty(self):\n",
    "        return len(self._data) == 0\n",
    "    \n",
    "    def push(self, e):\n",
    "        self._data.append(e)\n",
    "        \n",
    "    def top(self):\n",
    "        if self.is_empty():\n",
    "            raise Empty('Stack is empty')\n",
    "        return self._data[-1]\n",
    "    \n",
    "    def pop(self):\n",
    "        if self.is_empty():\n",
    "            raise Empty('Stack is empty')\n",
    "        return self._data.pop()"
   ]
  },
  {
   "cell_type": "code",
   "execution_count": 2,
   "metadata": {},
   "outputs": [],
   "source": [
    "# Reversing a File name\n",
    "\n",
    "def reverse_file(filename):\n",
    "    S = ArrayStack()\n",
    "    original = open(filename)\n",
    "    for line in original:\n",
    "        S.push(line.rstrip('\\n')) # reinserts newline charachters\n",
    "    original.close()\n",
    "    \n",
    "    output = open(filename, 'w')\n",
    "    while not S.is_empty():\n",
    "        output.write(S.pop() + '\\n')\n",
    "    output.close()\n"
   ]
  },
  {
   "cell_type": "code",
   "execution_count": 3,
   "metadata": {},
   "outputs": [],
   "source": [
    "# Function for matching delimiters in an arithmetic expression.\n",
    "def is_matched(expr):\n",
    "    \n",
    "    lefty = \"({[\"\n",
    "    righty = \")}]\"\n",
    "    \n",
    "    S = ArrayStack()\n",
    "    \n",
    "    for c in expr:\n",
    "        if c in lefty:\n",
    "            S.push(c)\n",
    "        elif c in righty:\n",
    "            if S.is_empty():\n",
    "                return False\n",
    "            if righty.index(c) != lefty.index(S.pop()):\n",
    "                return False\n",
    "    return S.is_empty()"
   ]
  },
  {
   "cell_type": "code",
   "execution_count": 4,
   "metadata": {},
   "outputs": [],
   "source": [
    "# In Markup language\n",
    "def is_matched_html(raw):\n",
    "    S = ArrayStack()\n",
    "    j = raw.find('<')\n",
    "    \n",
    "    while j != -1:\n",
    "        k = raw.find('>', j+1)\n",
    "        if k == -1:\n",
    "            return False\n",
    "        tag = raw[j+1:k]\n",
    "        if not tag.startswith('/'):\n",
    "            S.push(tag)\n",
    "        else:\n",
    "            if S.is_empty():\n",
    "                return False\n",
    "            if tag[1:] != S.pop():\n",
    "                return False\n",
    "        j = raw.find('<', k+1)\n",
    "    return S.is_empty()"
   ]
  },
  {
   "cell_type": "code",
   "execution_count": 5,
   "metadata": {},
   "outputs": [],
   "source": [
    "# Queues - First in First Out Principle\n",
    "# Similiar to a Queue (Requests done by IP are procceced like that)\n",
    "\n",
    "class ArrayQueue:\n",
    "    \n",
    "    DEFAULT_CAPACITY = 10\n",
    "    \n",
    "    def __init__(self):\n",
    "        self._data = [None] * ArrayQueue.DEFAULT_CAPACITY\n",
    "        self._size = 0\n",
    "        self._front = 0\n",
    "        \n",
    "    def __len__(self):\n",
    "        return self._size\n",
    "    \n",
    "    def is_empty(self):\n",
    "        return self._size == 0\n",
    "    \n",
    "    def first(self):\n",
    "        if self.is_empty():\n",
    "            raise Empty(\"Queue is empty\")\n",
    "        return self._data[self._front]\n",
    "    \n",
    "    def dequeue(self):\n",
    "        \n",
    "        if self.is_empty():\n",
    "            raise Empty(\"Queue is empty\")\n",
    "        answer = self._data[self._front]\n",
    "        self._data[self._front] = None\n",
    "        self._front = (self._fornt +1) % len(self._data)\n",
    "        self._size -= 1\n",
    "        \n",
    "        if 0 < self._size < len(self._data) // 4:\n",
    "            self._resize(len(self._data) // 2)\n",
    "        return answer\n",
    "    \n",
    "    def enqueue(self, e):\n",
    "        if self._size == len(self._data):\n",
    "            self._resize(2 * len(self._data))\n",
    "        avail = (self._fornt + self._size) % len(self._data)\n",
    "        self._data[avail] = e\n",
    "        self._size += 1\n",
    "    \n",
    "    def _resize(self, cap):\n",
    "        \n",
    "        old = self._data\n",
    "        self._data = [None] * cap\n",
    "        walk = self._front\n",
    "        for k in range(self._size):\n",
    "            self._data[k] = old[walk]\n",
    "            walk = (1 + walk) % len(old)\n",
    "        self._front = 0\n"
   ]
  },
  {
   "cell_type": "code",
   "execution_count": 23,
   "metadata": {},
   "outputs": [
    {
     "data": {
      "text/plain": [
       "(deque([3, 5, 4, 3]), 1, None, None, None)"
      ]
     },
     "execution_count": 23,
     "metadata": {},
     "output_type": "execute_result"
    }
   ],
   "source": [
    "# Double Ended Queues - Deques \n",
    "import collections\n",
    "D = collections.deque()\n",
    "D.append(4)\n",
    "D, len(D), D.appendleft(5), D.append(3), D.appendleft(3)"
   ]
  },
  {
   "cell_type": "markdown",
   "metadata": {},
   "source": [
    "## Reinforcement Exercises "
   ]
  },
  {
   "cell_type": "code",
   "execution_count": 38,
   "metadata": {},
   "outputs": [
    {
     "data": {
      "text/plain": [
       "5"
      ]
     },
     "execution_count": 38,
     "metadata": {},
     "output_type": "execute_result"
    }
   ],
   "source": [
    "# 61\n",
    "A = ArrayStack()\n",
    "A.push(5) \n",
    "A.push(3) \n",
    "A.pop() \n",
    "A.push(2) \n",
    "A.push(8) \n",
    "A.pop()\n",
    "A.pop()\n",
    "A.push(9) \n",
    "A.push(1) \n",
    "A.pop()\n",
    "A.pop()\n",
    "A.push(7) \n",
    "A.push(6) \n",
    "A.pop()\n",
    "A.pop()\n",
    "A.push(4)\n",
    "A.pop()\n",
    "A.pop()\n",
    "# Now A should be empty "
   ]
  },
  {
   "cell_type": "markdown",
   "metadata": {},
   "source": [
    "62 - \n",
    "Suppose an initially empty stack S has executed a total of 25 push operations, 12 top operations, and 10 pop operations, 3 of which raised Empty errors that were caught and ignored. What is the current size of S?\n"
   ]
  },
  {
   "cell_type": "code",
   "execution_count": 45,
   "metadata": {},
   "outputs": [],
   "source": [
    "A = ArrayStack()\n",
    "\n",
    "for i in range(10):\n",
    "    A.push(i)\n",
    "for i in range(10):\n",
    "    A.top()\n",
    "    \n",
    "# Top does not affect the size and order of the Stack. It is just a return statement\n",
    "# Thus, A should contain 25 - 7 = 18 data points"
   ]
  },
  {
   "cell_type": "code",
   "execution_count": 74,
   "metadata": {},
   "outputs": [],
   "source": [
    "# Stacks - Last in First Out Principle \n",
    "class ArrayStack:\n",
    "    \"\"\"LIFO Stack implementatino using a Python list as underlying storage.\"\"\"\n",
    "    \n",
    "    def __init__(self):\n",
    "        self._data = []\n",
    "    \n",
    "    @property\n",
    "    def data(self):\n",
    "        return self._data\n",
    "    \n",
    "    def __len__(self):\n",
    "        return len(self._data)\n",
    "    \n",
    "    def is_empty(self):\n",
    "        return len(self._data) == 0\n",
    "    \n",
    "    def push(self, e):\n",
    "        self._data.append(e)\n",
    "        \n",
    "    def top(self):\n",
    "        if self.is_empty():\n",
    "            raise Empty('Stack is empty')\n",
    "        return self._data[-1]\n",
    "    \n",
    "    def pop(self):\n",
    "        if self.is_empty():\n",
    "            raise Empty('Stack is empty')\n",
    "        return self._data.pop()\n",
    "    \n",
    "    # Elegant solution O(n)\n",
    "    def transfer(self, S: ArrayStack) -> None:\n",
    "        lens = len(self._data)\n",
    "        [S.push(self.pop()) for _ in range(lens)]\n",
    "        "
   ]
  },
  {
   "cell_type": "code",
   "execution_count": 80,
   "metadata": {},
   "outputs": [
    {
     "data": {
      "text/plain": [
       "[9, 8, 7, 6, 5, 4, 3, 2, 1, 0]"
      ]
     },
     "execution_count": 80,
     "metadata": {},
     "output_type": "execute_result"
    }
   ],
   "source": [
    "# Manual\n",
    "x = ArrayStack()\n",
    "y = ArrayStack()\n",
    "for i in range(10):\n",
    "    x.push(i)\n",
    "x.data\n",
    "\n",
    "xlen = len(x.data)\n",
    "\n",
    "[y.push(x.pop()) for _ in range(xlen)]\n",
    "\n",
    "y.data\n",
    "\n",
    "# subroutine \n",
    "x = ArrayStack()\n",
    "y = ArrayStack()\n",
    "for i in range(10):\n",
    "    x.push(i)\n",
    "x.transfer(y)\n",
    "y.data"
   ]
  },
  {
   "cell_type": "code",
   "execution_count": 81,
   "metadata": {},
   "outputs": [],
   "source": [
    "# 64\n",
    "# Give a recursive method for removing all the elements from a stack.\n",
    "\n",
    "# Stacks - Last in First Out Principle \n",
    "class ArrayStack:\n",
    "    \"\"\"LIFO Stack implementatino using a Python list as underlying storage.\"\"\"\n",
    "    \n",
    "    def __init__(self):\n",
    "        self._data = []\n",
    "    \n",
    "    @property\n",
    "    def data(self):\n",
    "        return self._data\n",
    "    \n",
    "    def __len__(self):\n",
    "        return len(self._data)\n",
    "    \n",
    "    def is_empty(self):\n",
    "        return len(self._data) == 0\n",
    "    \n",
    "    def push(self, e):\n",
    "        self._data.append(e)\n",
    "        \n",
    "    def top(self):\n",
    "        if self.is_empty():\n",
    "            raise Empty('Stack is empty')\n",
    "        return self._data[-1]\n",
    "    \n",
    "    def pop(self):\n",
    "        if self.is_empty():\n",
    "            raise Empty('Stack is empty')\n",
    "        return self._data.pop()\n",
    "    \n",
    "    # Elegant solution O(n)\n",
    "    def transfer(self, S: ArrayStack) -> None:\n",
    "        lens = len(self._data)\n",
    "        [S.push(self.pop()) for _ in range(lens)]\n",
    "     \n",
    "    # Solution to the reset in O(n)\n",
    "    def reset(self):\n",
    "        lens = len(self._data)\n",
    "        [self.pop() for _ in range(lens)]\n",
    "        \n"
   ]
  },
  {
   "cell_type": "code",
   "execution_count": null,
   "metadata": {},
   "outputs": [],
   "source": []
  }
 ],
 "metadata": {
  "kernelspec": {
   "display_name": "Python 3",
   "language": "python",
   "name": "python3"
  },
  "language_info": {
   "codemirror_mode": {
    "name": "ipython",
    "version": 3
   },
   "file_extension": ".py",
   "mimetype": "text/x-python",
   "name": "python",
   "nbconvert_exporter": "python",
   "pygments_lexer": "ipython3",
   "version": "3.8.5"
  }
 },
 "nbformat": 4,
 "nbformat_minor": 4
}
