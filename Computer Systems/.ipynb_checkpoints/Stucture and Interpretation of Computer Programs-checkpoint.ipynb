{
 "cells": [
  {
   "cell_type": "markdown",
   "id": "accurate-brighton",
   "metadata": {},
   "source": [
    "# Building Abstractions with Procedures\n",
    "\n",
    "## Abstraction - Procedures\n",
    "\n",
    "Procedures are in effect abstractions that describe compound operations on numbers or factors indeendent of the particular numbers. \n",
    "\n",
    "In Lisp things are written in a logical order not in a order that resemples the formalism we imply in English. \n",
    "\n",
    "## Higher order abstractions \n",
    "\n",
    "### Lambda Abstractions (Anonymus functions)\n",
    "\n",
    "We can also build anonymus functions that we call within another procedure, like compunding computations. Doing so can accelerate runtime and make some calls more efficient.\n"
   ]
  },
  {
   "cell_type": "code",
   "execution_count": 2,
   "id": "lovely-cooperative",
   "metadata": {},
   "outputs": [],
   "source": [
    "# in python \n",
    "\n",
    "def functions(a,b):\n",
    "    # do something with a b\n",
    "    c = a + b \n",
    "    return c\n",
    "\n",
    "## both function calls should result in the same retured value\n",
    "def function(a,b):\n",
    "    c = lambda d : a + b # can be a more complex function call \n",
    "                         # like a list comprehension or so as well\n",
    "    return c \n",
    "\n",
    "# we can implement the lambda functions in more complex procedures"
   ]
  },
  {
   "cell_type": "markdown",
   "id": "processed-officer",
   "metadata": {},
   "source": [
    "# 2 Bulding Abstractions with Data\n",
    "\n"
   ]
  }
 ],
 "metadata": {
  "kernelspec": {
   "display_name": "Python 3",
   "language": "python",
   "name": "python3"
  },
  "language_info": {
   "codemirror_mode": {
    "name": "ipython",
    "version": 3
   },
   "file_extension": ".py",
   "mimetype": "text/x-python",
   "name": "python",
   "nbconvert_exporter": "python",
   "pygments_lexer": "ipython3",
   "version": "3.7.10"
  }
 },
 "nbformat": 4,
 "nbformat_minor": 5
}
