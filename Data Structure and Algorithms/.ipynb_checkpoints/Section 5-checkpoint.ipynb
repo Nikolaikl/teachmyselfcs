{
 "cells": [
  {
   "cell_type": "code",
   "execution_count": 19,
   "metadata": {},
   "outputs": [
    {
     "name": "stdout",
     "output_type": "stream",
     "text": [
      "Secret:  FQQ HFUX JAJWDYMNSL.\n",
      "Message:  ALL CAPS EVERYTHING.\n"
     ]
    }
   ],
   "source": [
    "# 1 dim Array Based Sequences\n",
    "\n",
    "class CaesarCipher:\n",
    "    \n",
    "    # Class for doing encrption using a ceasar cipher\n",
    "    \n",
    "    def __init__(self,shift):\n",
    "        encoder = [None] * 26\n",
    "        decoder = [None] * 26\n",
    "        \n",
    "        for k in range(26):\n",
    "            encoder[k] = chr((k+shift) % 26 + ord('A'))\n",
    "            decoder[k] = chr((k-shift) % 26 + ord('A'))\n",
    "        self._forward = ''.join(encoder)\n",
    "        self._backward = ''.join(decoder)\n",
    "    \n",
    "    def encrypt(self, message):\n",
    "        return self._transform(message, self._forward)\n",
    "    \n",
    "    def decrypt(self, message):\n",
    "        return self._transform(message, self._backward) \n",
    "    \n",
    "    def _transform(self, original, code):\n",
    "        msg = list(original)\n",
    "        for k in range(len(msg)):\n",
    "            if msg[k].isupper():\n",
    "                j = ord(msg[k])-ord('A')\n",
    "                msg[k] = code[j]\n",
    "        return ''.join(msg)\n",
    "    \n",
    "if __name__ == '__main__':\n",
    "    cipher = CaesarCipher(5)\n",
    "    message = 'ALL CAPS EVERYTHING.'\n",
    "    coded = cipher.encrypt(message)\n",
    "    print('Secret: ', coded)\n",
    "    answer = cipher.decrypt(coded)\n",
    "    print('Message: ', answer)"
   ]
  },
  {
   "cell_type": "code",
   "execution_count": 11,
   "metadata": {},
   "outputs": [
    {
     "data": {
      "text/plain": [
       "'\\x05'"
      ]
     },
     "execution_count": 11,
     "metadata": {},
     "output_type": "execute_result"
    }
   ],
   "source": [
    "# Mutli Dim Array Based Sequencing\n",
    "\n"
   ]
  }
 ],
 "metadata": {
  "kernelspec": {
   "display_name": "Python 3",
   "language": "python",
   "name": "python3"
  },
  "language_info": {
   "codemirror_mode": {
    "name": "ipython",
    "version": 3
   },
   "file_extension": ".py",
   "mimetype": "text/x-python",
   "name": "python",
   "nbconvert_exporter": "python",
   "pygments_lexer": "ipython3",
   "version": "3.8.5"
  }
 },
 "nbformat": 4,
 "nbformat_minor": 4
}
