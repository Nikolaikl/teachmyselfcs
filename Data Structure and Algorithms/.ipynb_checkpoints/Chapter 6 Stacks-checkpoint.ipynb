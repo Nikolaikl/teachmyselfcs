{
 "cells": [
  {
   "cell_type": "code",
   "execution_count": null,
   "metadata": {},
   "outputs": [],
   "source": [
    "# Stacks \n",
    "class ArrayStack:\n",
    "    \"\"\"LIFO Stack implementatino using a Python list as underlying storage.\"\"\"\n",
    "    \n",
    "    def __init__(self):\n",
    "        self._data = []\n",
    "        \n",
    "    def __len__(self):\n",
    "        return len(self._data)\n",
    "    \n",
    "    def is_empty(self):\n",
    "        return len(self._data) == 0\n",
    "    \n",
    "    def push(self, e):\n",
    "        self._data.append(e)\n",
    "        \n",
    "    def top(self):\n",
    "        if self.is_empty():\n",
    "            raise Empty('Stack is empty')\n",
    "        return self._data[-1]\n",
    "    \n",
    "    def pop(self):\n",
    "        if self.is_empty():\n",
    "            raise Empty('Stack is empty')\n",
    "        return self._data.pop()"
   ]
  },
  {
   "cell_type": "code",
   "execution_count": null,
   "metadata": {},
   "outputs": [],
   "source": [
    "# Reversing a File name\n",
    "\n",
    "def reverse_file(filename):\n",
    "    S = ArrayStack()\n",
    "    original = open(filename)\n",
    "    for line in original:\n",
    "        S.push(line.rstrip('\\n')) # reinserts newline charachters\n",
    "    original.close()\n",
    "    \n",
    "    output = open(filename, 'w')\n",
    "    while not S.is_empty():\n",
    "        output.write(S.pop() + '\\n')\n",
    "    output.close()\n"
   ]
  },
  {
   "cell_type": "code",
   "execution_count": null,
   "metadata": {},
   "outputs": [],
   "source": [
    "# Function for matching delimiters in an arithmetic expression.\n",
    "def is_matched(expr):\n",
    "    \n",
    "    lefty = \"({[\"\n",
    "    righty = \")}]\"\n",
    "    \n",
    "    S = ArrayStack()\n",
    "    \n",
    "    for c in expr:\n",
    "        if c in lefty:\n",
    "            S.push(c)\n",
    "        elif c in righty:\n",
    "            if S.is_empty():\n",
    "                return False\n",
    "            if righty.index(c) != lefty.index(S.pop()):\n",
    "                return False\n",
    "    return S.is_empty()"
   ]
  },
  {
   "cell_type": "code",
   "execution_count": null,
   "metadata": {},
   "outputs": [],
   "source": [
    "# In Markup language\n",
    "def is_matched_html(raw):\n",
    "    S = ArrayStack()\n",
    "    j = raw.find('<')\n",
    "    \n",
    "    while j != -1:\n",
    "        k = raw.find('>', j+1)\n",
    "        if k == -1:\n",
    "            return False\n",
    "        tag = raw[j+1:k]\n",
    "        if not tag.startswith('/'):\n",
    "            S.push(tag)\n",
    "        else:\n",
    "            if S.is_empty():\n",
    "                return False\n",
    "            if tag[1:] != S.pop():\n",
    "                return False\n",
    "        j = raw.find('<', k+1)\n",
    "    return S.is_empty()"
   ]
  },
  {
   "cell_type": "code",
   "execution_count": null,
   "metadata": {},
   "outputs": [],
   "source": [
    "# Queues "
   ]
  },
  {
   "cell_type": "code",
   "execution_count": null,
   "metadata": {},
   "outputs": [],
   "source": []
  }
 ],
 "metadata": {
  "kernelspec": {
   "display_name": "Python 3",
   "language": "python",
   "name": "python3"
  },
  "language_info": {
   "codemirror_mode": {
    "name": "ipython",
    "version": 3
   },
   "file_extension": ".py",
   "mimetype": "text/x-python",
   "name": "python",
   "nbconvert_exporter": "python",
   "pygments_lexer": "ipython3",
   "version": "3.8.5"
  }
 },
 "nbformat": 4,
 "nbformat_minor": 4
}
